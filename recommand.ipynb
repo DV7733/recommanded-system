{
 "cells": [
  {
   "cell_type": "markdown",
   "id": "e168c72d",
   "metadata": {},
   "source": [
    "## all liberyies\n",
    "### 1. ast  2.CountVectorizer 3. pandas 4. numpy\n",
    "#### basically i tried to build simple model which recommande movies related to our corrunt movie"
   ]
  },
  {
   "cell_type": "code",
   "execution_count": null,
   "id": "caea74ae",
   "metadata": {},
   "outputs": [],
   "source": [
    "import numpy as np\n",
    "import pandas as pd"
   ]
  },
  {
   "cell_type": "markdown",
   "id": "7fc5174a",
   "metadata": {},
   "source": [
    "## import data"
   ]
  },
  {
   "cell_type": "code",
   "execution_count": 2,
   "id": "cf00da49",
   "metadata": {},
   "outputs": [
    {
     "data": {
      "text/plain": [
       "movie_id    4803\n",
       "title       4803\n",
       "cast        4803\n",
       "crew        4803\n",
       "dtype: int64"
      ]
     },
     "execution_count": 2,
     "metadata": {},
     "output_type": "execute_result"
    }
   ],
   "source": [
    "movies = pd.read_csv(\"tmdb_5000_movies.csv\")\n",
    "credit = pd.read_csv(\"tmdb_5000_credits.csv\")\n",
    "credit.count()"
   ]
  },
  {
   "cell_type": "markdown",
   "id": "a08e59d8",
   "metadata": {},
   "source": [
    "## Data cleaning"
   ]
  },
  {
   "cell_type": "code",
   "execution_count": 3,
   "id": "71880d21",
   "metadata": {},
   "outputs": [
    {
     "data": {
      "text/plain": [
       "budget                  4809\n",
       "genres                  4809\n",
       "homepage                1713\n",
       "id                      4809\n",
       "keywords                4809\n",
       "original_language       4809\n",
       "original_title          4809\n",
       "overview                4806\n",
       "popularity              4809\n",
       "production_companies    4809\n",
       "production_countries    4809\n",
       "release_date            4808\n",
       "revenue                 4809\n",
       "runtime                 4807\n",
       "spoken_languages        4809\n",
       "status                  4809\n",
       "tagline                 3965\n",
       "title                   4809\n",
       "vote_average            4809\n",
       "vote_count              4809\n",
       "movie_id                4809\n",
       "cast                    4809\n",
       "crew                    4809\n",
       "dtype: int64"
      ]
     },
     "execution_count": 3,
     "metadata": {},
     "output_type": "execute_result"
    }
   ],
   "source": [
    "movies =  movies.merge(credit,on='title')\n",
    "movies.count()\n",
    "#movies.drop(['cast_x','cast_y','crew_x','crew_y'],axis=1,inplace=True)"
   ]
  },
  {
   "cell_type": "code",
   "execution_count": 4,
   "id": "fa87a751",
   "metadata": {},
   "outputs": [
    {
     "data": {
      "text/html": [
       "<div>\n",
       "<style scoped>\n",
       "    .dataframe tbody tr th:only-of-type {\n",
       "        vertical-align: middle;\n",
       "    }\n",
       "\n",
       "    .dataframe tbody tr th {\n",
       "        vertical-align: top;\n",
       "    }\n",
       "\n",
       "    .dataframe thead th {\n",
       "        text-align: right;\n",
       "    }\n",
       "</style>\n",
       "<table border=\"1\" class=\"dataframe\">\n",
       "  <thead>\n",
       "    <tr style=\"text-align: right;\">\n",
       "      <th></th>\n",
       "      <th>id</th>\n",
       "      <th>title</th>\n",
       "      <th>genres</th>\n",
       "      <th>overview</th>\n",
       "      <th>cast</th>\n",
       "      <th>crew</th>\n",
       "    </tr>\n",
       "  </thead>\n",
       "  <tbody>\n",
       "    <tr>\n",
       "      <th>0</th>\n",
       "      <td>19995</td>\n",
       "      <td>Avatar</td>\n",
       "      <td>[{\"id\": 28, \"name\": \"Action\"}, {\"id\": 12, \"nam...</td>\n",
       "      <td>In the 22nd century, a paraplegic Marine is di...</td>\n",
       "      <td>[{\"cast_id\": 242, \"character\": \"Jake Sully\", \"...</td>\n",
       "      <td>[{\"credit_id\": \"52fe48009251416c750aca23\", \"de...</td>\n",
       "    </tr>\n",
       "    <tr>\n",
       "      <th>1</th>\n",
       "      <td>285</td>\n",
       "      <td>Pirates of the Caribbean: At World's End</td>\n",
       "      <td>[{\"id\": 12, \"name\": \"Adventure\"}, {\"id\": 14, \"...</td>\n",
       "      <td>Captain Barbossa, long believed to be dead, ha...</td>\n",
       "      <td>[{\"cast_id\": 4, \"character\": \"Captain Jack Spa...</td>\n",
       "      <td>[{\"credit_id\": \"52fe4232c3a36847f800b579\", \"de...</td>\n",
       "    </tr>\n",
       "    <tr>\n",
       "      <th>2</th>\n",
       "      <td>206647</td>\n",
       "      <td>Spectre</td>\n",
       "      <td>[{\"id\": 28, \"name\": \"Action\"}, {\"id\": 12, \"nam...</td>\n",
       "      <td>A cryptic message from Bond’s past sends him o...</td>\n",
       "      <td>[{\"cast_id\": 1, \"character\": \"James Bond\", \"cr...</td>\n",
       "      <td>[{\"credit_id\": \"54805967c3a36829b5002c41\", \"de...</td>\n",
       "    </tr>\n",
       "    <tr>\n",
       "      <th>3</th>\n",
       "      <td>49026</td>\n",
       "      <td>The Dark Knight Rises</td>\n",
       "      <td>[{\"id\": 28, \"name\": \"Action\"}, {\"id\": 80, \"nam...</td>\n",
       "      <td>Following the death of District Attorney Harve...</td>\n",
       "      <td>[{\"cast_id\": 2, \"character\": \"Bruce Wayne / Ba...</td>\n",
       "      <td>[{\"credit_id\": \"52fe4781c3a36847f81398c3\", \"de...</td>\n",
       "    </tr>\n",
       "    <tr>\n",
       "      <th>4</th>\n",
       "      <td>49529</td>\n",
       "      <td>John Carter</td>\n",
       "      <td>[{\"id\": 28, \"name\": \"Action\"}, {\"id\": 12, \"nam...</td>\n",
       "      <td>John Carter is a war-weary, former military ca...</td>\n",
       "      <td>[{\"cast_id\": 5, \"character\": \"John Carter\", \"c...</td>\n",
       "      <td>[{\"credit_id\": \"52fe479ac3a36847f813eaa3\", \"de...</td>\n",
       "    </tr>\n",
       "  </tbody>\n",
       "</table>\n",
       "</div>"
      ],
      "text/plain": [
       "       id                                     title  \\\n",
       "0   19995                                    Avatar   \n",
       "1     285  Pirates of the Caribbean: At World's End   \n",
       "2  206647                                   Spectre   \n",
       "3   49026                     The Dark Knight Rises   \n",
       "4   49529                               John Carter   \n",
       "\n",
       "                                              genres  \\\n",
       "0  [{\"id\": 28, \"name\": \"Action\"}, {\"id\": 12, \"nam...   \n",
       "1  [{\"id\": 12, \"name\": \"Adventure\"}, {\"id\": 14, \"...   \n",
       "2  [{\"id\": 28, \"name\": \"Action\"}, {\"id\": 12, \"nam...   \n",
       "3  [{\"id\": 28, \"name\": \"Action\"}, {\"id\": 80, \"nam...   \n",
       "4  [{\"id\": 28, \"name\": \"Action\"}, {\"id\": 12, \"nam...   \n",
       "\n",
       "                                            overview  \\\n",
       "0  In the 22nd century, a paraplegic Marine is di...   \n",
       "1  Captain Barbossa, long believed to be dead, ha...   \n",
       "2  A cryptic message from Bond’s past sends him o...   \n",
       "3  Following the death of District Attorney Harve...   \n",
       "4  John Carter is a war-weary, former military ca...   \n",
       "\n",
       "                                                cast  \\\n",
       "0  [{\"cast_id\": 242, \"character\": \"Jake Sully\", \"...   \n",
       "1  [{\"cast_id\": 4, \"character\": \"Captain Jack Spa...   \n",
       "2  [{\"cast_id\": 1, \"character\": \"James Bond\", \"cr...   \n",
       "3  [{\"cast_id\": 2, \"character\": \"Bruce Wayne / Ba...   \n",
       "4  [{\"cast_id\": 5, \"character\": \"John Carter\", \"c...   \n",
       "\n",
       "                                                crew  \n",
       "0  [{\"credit_id\": \"52fe48009251416c750aca23\", \"de...  \n",
       "1  [{\"credit_id\": \"52fe4232c3a36847f800b579\", \"de...  \n",
       "2  [{\"credit_id\": \"54805967c3a36829b5002c41\", \"de...  \n",
       "3  [{\"credit_id\": \"52fe4781c3a36847f81398c3\", \"de...  \n",
       "4  [{\"credit_id\": \"52fe479ac3a36847f813eaa3\", \"de...  "
      ]
     },
     "execution_count": 4,
     "metadata": {},
     "output_type": "execute_result"
    }
   ],
   "source": [
    "# we want genres,id,title,overview,cast_x,crew_x,\n",
    "data = movies[['id','title','genres','overview','cast','crew']]\n",
    "data.head()"
   ]
  },
  {
   "cell_type": "markdown",
   "id": "8c0c2337",
   "metadata": {},
   "source": [
    "## clean some column's data\n",
    "### ex find particullar value and list them"
   ]
  },
  {
   "cell_type": "code",
   "execution_count": 5,
   "id": "f81b2ac3",
   "metadata": {},
   "outputs": [
    {
     "name": "stderr",
     "output_type": "stream",
     "text": [
      "<ipython-input-5-600efd76024b>:14: SettingWithCopyWarning: \n",
      "A value is trying to be set on a copy of a slice from a DataFrame.\n",
      "Try using .loc[row_indexer,col_indexer] = value instead\n",
      "\n",
      "See the caveats in the documentation: https://pandas.pydata.org/pandas-docs/stable/user_guide/indexing.html#returning-a-view-versus-a-copy\n",
      "  data['cast'] = data['cast'].apply(name)\n"
     ]
    }
   ],
   "source": [
    "#now filter every column\n",
    "#movies.cast_x[0]\n",
    "#we want only name from cast_x\n",
    "import ast\n",
    "def name(obj):\n",
    "    L=[]\n",
    "    count = 0\n",
    "    for i in ast.literal_eval(obj):\n",
    "        if count<3:\n",
    "            L.append(i['name'])\n",
    "        count+=1\n",
    "    return L\n",
    "\n",
    "data['cast'] = data['cast'].apply(name)"
   ]
  },
  {
   "cell_type": "code",
   "execution_count": 6,
   "id": "698020ad",
   "metadata": {},
   "outputs": [
    {
     "name": "stderr",
     "output_type": "stream",
     "text": [
      "<ipython-input-6-eb392658691a>:2: SettingWithCopyWarning: \n",
      "A value is trying to be set on a copy of a slice from a DataFrame.\n",
      "Try using .loc[row_indexer,col_indexer] = value instead\n",
      "\n",
      "See the caveats in the documentation: https://pandas.pydata.org/pandas-docs/stable/user_guide/indexing.html#returning-a-view-versus-a-copy\n",
      "  data['genres'] = data['genres'].apply(name)\n"
     ]
    }
   ],
   "source": [
    "#same function apply for genres\n",
    "data['genres'] = data['genres'].apply(name)"
   ]
  },
  {
   "cell_type": "code",
   "execution_count": 7,
   "id": "206dcd86",
   "metadata": {},
   "outputs": [],
   "source": [
    "#same function but same change for crew\n",
    "def director(obj):\n",
    "    l = []\n",
    "    for i in ast.literal_eval(obj):\n",
    "        if i['job'] == 'Director':\n",
    "            l.append(i['name'])\n",
    "    return l # we have to return in for loop"
   ]
  },
  {
   "cell_type": "code",
   "execution_count": 8,
   "id": "f0ca1125",
   "metadata": {},
   "outputs": [
    {
     "name": "stderr",
     "output_type": "stream",
     "text": [
      "<ipython-input-8-7e9f9cb27b6d>:1: SettingWithCopyWarning: \n",
      "A value is trying to be set on a copy of a slice from a DataFrame.\n",
      "Try using .loc[row_indexer,col_indexer] = value instead\n",
      "\n",
      "See the caveats in the documentation: https://pandas.pydata.org/pandas-docs/stable/user_guide/indexing.html#returning-a-view-versus-a-copy\n",
      "  data['crew'] = data['crew'].apply(director)\n"
     ]
    }
   ],
   "source": [
    "data['crew'] = data['crew'].apply(director)"
   ]
  },
  {
   "cell_type": "code",
   "execution_count": 9,
   "id": "a6abf3d5",
   "metadata": {},
   "outputs": [
    {
     "data": {
      "text/html": [
       "<div>\n",
       "<style scoped>\n",
       "    .dataframe tbody tr th:only-of-type {\n",
       "        vertical-align: middle;\n",
       "    }\n",
       "\n",
       "    .dataframe tbody tr th {\n",
       "        vertical-align: top;\n",
       "    }\n",
       "\n",
       "    .dataframe thead th {\n",
       "        text-align: right;\n",
       "    }\n",
       "</style>\n",
       "<table border=\"1\" class=\"dataframe\">\n",
       "  <thead>\n",
       "    <tr style=\"text-align: right;\">\n",
       "      <th></th>\n",
       "      <th>id</th>\n",
       "      <th>title</th>\n",
       "      <th>genres</th>\n",
       "      <th>overview</th>\n",
       "      <th>cast</th>\n",
       "      <th>crew</th>\n",
       "    </tr>\n",
       "  </thead>\n",
       "  <tbody>\n",
       "    <tr>\n",
       "      <th>0</th>\n",
       "      <td>19995</td>\n",
       "      <td>Avatar</td>\n",
       "      <td>[Action, Adventure, Fantasy]</td>\n",
       "      <td>In the 22nd century, a paraplegic Marine is di...</td>\n",
       "      <td>[Sam Worthington, Zoe Saldana, Sigourney Weaver]</td>\n",
       "      <td>[James Cameron]</td>\n",
       "    </tr>\n",
       "    <tr>\n",
       "      <th>1</th>\n",
       "      <td>285</td>\n",
       "      <td>Pirates of the Caribbean: At World's End</td>\n",
       "      <td>[Adventure, Fantasy, Action]</td>\n",
       "      <td>Captain Barbossa, long believed to be dead, ha...</td>\n",
       "      <td>[Johnny Depp, Orlando Bloom, Keira Knightley]</td>\n",
       "      <td>[Gore Verbinski]</td>\n",
       "    </tr>\n",
       "  </tbody>\n",
       "</table>\n",
       "</div>"
      ],
      "text/plain": [
       "      id                                     title  \\\n",
       "0  19995                                    Avatar   \n",
       "1    285  Pirates of the Caribbean: At World's End   \n",
       "\n",
       "                         genres  \\\n",
       "0  [Action, Adventure, Fantasy]   \n",
       "1  [Adventure, Fantasy, Action]   \n",
       "\n",
       "                                            overview  \\\n",
       "0  In the 22nd century, a paraplegic Marine is di...   \n",
       "1  Captain Barbossa, long believed to be dead, ha...   \n",
       "\n",
       "                                               cast              crew  \n",
       "0  [Sam Worthington, Zoe Saldana, Sigourney Weaver]   [James Cameron]  \n",
       "1     [Johnny Depp, Orlando Bloom, Keira Knightley]  [Gore Verbinski]  "
      ]
     },
     "execution_count": 9,
     "metadata": {},
     "output_type": "execute_result"
    }
   ],
   "source": [
    "df  = data # due to some errors we do this\n",
    "df.head(2)"
   ]
  },
  {
   "cell_type": "code",
   "execution_count": 10,
   "id": "cc90d8cc",
   "metadata": {},
   "outputs": [
    {
     "name": "stderr",
     "output_type": "stream",
     "text": [
      "<ipython-input-10-bcc826f3c133>:2: SettingWithCopyWarning: \n",
      "A value is trying to be set on a copy of a slice from a DataFrame.\n",
      "Try using .loc[row_indexer,col_indexer] = value instead\n",
      "\n",
      "See the caveats in the documentation: https://pandas.pydata.org/pandas-docs/stable/user_guide/indexing.html#returning-a-view-versus-a-copy\n",
      "  df['overview'] = df['overview'].apply(lambda x : x.split()) # it convert string or float to list\n"
     ]
    }
   ],
   "source": [
    "df = df[df['overview'].notnull()] # othervise it shoe the erroe that float has not split funtion\n",
    "df['overview'] = df['overview'].apply(lambda x : x.split()) # it convert string or float to list\n"
   ]
  },
  {
   "cell_type": "code",
   "execution_count": 11,
   "id": "1931f8e4",
   "metadata": {},
   "outputs": [
    {
     "data": {
      "text/plain": [
       "0       [In, the, 22nd, century,, a, paraplegic, Marin...\n",
       "1       [Captain, Barbossa,, long, believed, to, be, d...\n",
       "2       [A, cryptic, message, from, Bond’s, past, send...\n",
       "3       [Following, the, death, of, District, Attorney...\n",
       "4       [John, Carter, is, a, war-weary,, former, mili...\n",
       "                              ...                        \n",
       "4804    [El, Mariachi, just, wants, to, play, his, gui...\n",
       "4805    [A, newlywed, couple's, honeymoon, is, upended...\n",
       "4806    [\"Signed,, Sealed,, Delivered\", introduces, a,...\n",
       "4807    [When, ambitious, New, York, attorney, Sam, is...\n",
       "4808    [Ever, since, the, second, grade, when, he, fi...\n",
       "Name: overview, Length: 4806, dtype: object"
      ]
     },
     "execution_count": 11,
     "metadata": {},
     "output_type": "execute_result"
    }
   ],
   "source": [
    "df['overview']"
   ]
  },
  {
   "cell_type": "markdown",
   "id": "c7be14ee",
   "metadata": {},
   "source": [
    "## remove spaces "
   ]
  },
  {
   "cell_type": "code",
   "execution_count": 12,
   "id": "d45ef9fa",
   "metadata": {},
   "outputs": [],
   "source": [
    "# now we havet to remove dpaces which are present in cast crew and genres\n",
    "def remove_space(text):\n",
    "    L1=[]\n",
    "    for i in text:\n",
    "        L1.append(i.replace(\" \",\"\"))\n",
    "    return L1"
   ]
  },
  {
   "cell_type": "code",
   "execution_count": 13,
   "id": "4a70fa01",
   "metadata": {},
   "outputs": [],
   "source": [
    "#df['cast'].replace(\" \",\"\") we can't use this cause it take all list not a word it would use in column name\n"
   ]
  },
  {
   "cell_type": "code",
   "execution_count": 14,
   "id": "c9903e93",
   "metadata": {},
   "outputs": [
    {
     "name": "stderr",
     "output_type": "stream",
     "text": [
      "<ipython-input-14-071413374a4d>:1: SettingWithCopyWarning: \n",
      "A value is trying to be set on a copy of a slice from a DataFrame.\n",
      "Try using .loc[row_indexer,col_indexer] = value instead\n",
      "\n",
      "See the caveats in the documentation: https://pandas.pydata.org/pandas-docs/stable/user_guide/indexing.html#returning-a-view-versus-a-copy\n",
      "  df['genres'] = df['genres'].apply(remove_space)\n",
      "<ipython-input-14-071413374a4d>:2: SettingWithCopyWarning: \n",
      "A value is trying to be set on a copy of a slice from a DataFrame.\n",
      "Try using .loc[row_indexer,col_indexer] = value instead\n",
      "\n",
      "See the caveats in the documentation: https://pandas.pydata.org/pandas-docs/stable/user_guide/indexing.html#returning-a-view-versus-a-copy\n",
      "  df['cast'] = df['cast'].apply(remove_space)\n",
      "<ipython-input-14-071413374a4d>:3: SettingWithCopyWarning: \n",
      "A value is trying to be set on a copy of a slice from a DataFrame.\n",
      "Try using .loc[row_indexer,col_indexer] = value instead\n",
      "\n",
      "See the caveats in the documentation: https://pandas.pydata.org/pandas-docs/stable/user_guide/indexing.html#returning-a-view-versus-a-copy\n",
      "  df['crew'] = df['crew'].apply(remove_space)\n"
     ]
    }
   ],
   "source": [
    "df['genres'] = df['genres'].apply(remove_space)\n",
    "df['cast'] = df['cast'].apply(remove_space)\n",
    "df['crew'] = df['crew'].apply(remove_space)"
   ]
  },
  {
   "cell_type": "code",
   "execution_count": 15,
   "id": "0d733bd2",
   "metadata": {},
   "outputs": [
    {
     "name": "stderr",
     "output_type": "stream",
     "text": [
      "<ipython-input-15-0c8826de355d>:1: SettingWithCopyWarning: \n",
      "A value is trying to be set on a copy of a slice from a DataFrame.\n",
      "Try using .loc[row_indexer,col_indexer] = value instead\n",
      "\n",
      "See the caveats in the documentation: https://pandas.pydata.org/pandas-docs/stable/user_guide/indexing.html#returning-a-view-versus-a-copy\n",
      "  df['tag'] = df['overview']+df['genres']+df['cast']+df['crew']\n",
      "<ipython-input-15-0c8826de355d>:2: SettingWithCopyWarning: \n",
      "A value is trying to be set on a copy of a slice from a DataFrame.\n",
      "Try using .loc[row_indexer,col_indexer] = value instead\n",
      "\n",
      "See the caveats in the documentation: https://pandas.pydata.org/pandas-docs/stable/user_guide/indexing.html#returning-a-view-versus-a-copy\n",
      "  df['tag'] = df['tag'].apply(lambda x: \" \".join(x))\n"
     ]
    },
    {
     "data": {
      "text/plain": [
       "'In the 22nd century, a paraplegic Marine is dispatched to the moon Pandora on a unique mission, but becomes torn between following orders and protecting an alien civilization. Action Adventure Fantasy SamWorthington ZoeSaldana SigourneyWeaver JamesCameron'"
      ]
     },
     "execution_count": 15,
     "metadata": {},
     "output_type": "execute_result"
    }
   ],
   "source": [
    "df['tag'] = df['overview']+df['genres']+df['cast']+df['crew']\n",
    "df['tag'] = df['tag'].apply(lambda x: \" \".join(x)) # list to string\n",
    "df['tag'][0]"
   ]
  },
  {
   "cell_type": "code",
   "execution_count": 16,
   "id": "d76379bd",
   "metadata": {},
   "outputs": [],
   "source": [
    "df = df.drop(['genres','overview','cast','crew'],axis=1)"
   ]
  },
  {
   "cell_type": "code",
   "execution_count": 17,
   "id": "fecec6c0",
   "metadata": {},
   "outputs": [
    {
     "data": {
      "text/plain": [
       "0       In the 22nd century, a paraplegic Marine is di...\n",
       "1       Captain Barbossa, long believed to be dead, ha...\n",
       "2       A cryptic message from Bond’s past sends him o...\n",
       "3       Following the death of District Attorney Harve...\n",
       "4       John Carter is a war-weary, former military ca...\n",
       "                              ...                        \n",
       "4804    El Mariachi just wants to play his guitar and ...\n",
       "4805    A newlywed couple's honeymoon is upended by th...\n",
       "4806    \"Signed, Sealed, Delivered\" introduces a dedic...\n",
       "4807    When ambitious New York attorney Sam is sent t...\n",
       "4808    Ever since the second grade when he first saw ...\n",
       "Name: tag, Length: 4806, dtype: object"
      ]
     },
     "execution_count": 17,
     "metadata": {},
     "output_type": "execute_result"
    }
   ],
   "source": [
    "df['tag'].replace(\"\",\" \") "
   ]
  },
  {
   "cell_type": "markdown",
   "id": "9b13d5b6",
   "metadata": {},
   "source": [
    "## for similarity we add countvectorizer and make vectors"
   ]
  },
  {
   "cell_type": "code",
   "execution_count": 18,
   "id": "7f9c1d74",
   "metadata": {},
   "outputs": [],
   "source": [
    "from sklearn.feature_extraction.text  import CountVectorizer\n",
    "cv = CountVectorizer(max_features=4000,stop_words='english')"
   ]
  },
  {
   "cell_type": "code",
   "execution_count": 19,
   "id": "4908bcd1",
   "metadata": {},
   "outputs": [],
   "source": [
    "vector = cv.fit_transform(df['tag']).toarray()"
   ]
  },
  {
   "cell_type": "code",
   "execution_count": 20,
   "id": "bde50e84",
   "metadata": {},
   "outputs": [
    {
     "data": {
      "text/plain": [
       "(4806, 4000)"
      ]
     },
     "execution_count": 20,
     "metadata": {},
     "output_type": "execute_result"
    }
   ],
   "source": [
    "vector.shape"
   ]
  },
  {
   "cell_type": "code",
   "execution_count": 21,
   "id": "bd9bdaa2",
   "metadata": {},
   "outputs": [],
   "source": [
    "#li = df['tag'].apply(lambda x:x.split()) # for dtring to llist\n",
    "#li.apply(lambda x:\" \".join(x)) # for list to string"
   ]
  },
  {
   "cell_type": "markdown",
   "id": "7b574473",
   "metadata": {},
   "source": [
    "## find similarity"
   ]
  },
  {
   "cell_type": "code",
   "execution_count": 22,
   "id": "184d61ee",
   "metadata": {},
   "outputs": [],
   "source": [
    "from sklearn.metrics.pairwise import cosine_similarity\n",
    "similarity = cosine_similarity(vector)"
   ]
  },
  {
   "cell_type": "code",
   "execution_count": 23,
   "id": "fe141c5d",
   "metadata": {},
   "outputs": [
    {
     "data": {
      "text/plain": [
       "[(151, 0.29250896965085227),\n",
       " (1444, 0.29250896965085227),\n",
       " (4010, 0.25928148942086576),\n",
       " (942, 0.2475368857441686),\n",
       " (3730, 0.24253562503633294)]"
      ]
     },
     "execution_count": 23,
     "metadata": {},
     "output_type": "execute_result"
    }
   ],
   "source": [
    "# now we have to build a function\n",
    "#  1 we have to collect movie's id so\n",
    "df[df['title']=='Batman'].index[0]  # do from this code we get index no \n",
    "# 2 we want 5 or 4 similar movies foe that\n",
    "list(sorted(enumerate(similarity[0]),reverse=True,key= lambda x: x[1]))[1:6] # enumaret use for hold index value while sorting\n"
   ]
  },
  {
   "cell_type": "code",
   "execution_count": 24,
   "id": "c863abd6",
   "metadata": {},
   "outputs": [],
   "source": [
    "def similar(movie):\n",
    "    index_value = df[df['title']==movie].index[0]\n",
    "    similar_movies = sorted(list(enumerate(similarity[index_value])),reverse=True,key= lambda x: x[1])\n",
    "    for i in similar_movies[1:6]:\n",
    "        print(df.iloc[i[0]].title)"
   ]
  },
  {
   "cell_type": "code",
   "execution_count": 25,
   "id": "58d977c9",
   "metadata": {},
   "outputs": [
    {
     "data": {
      "text/plain": [
       "'The Book of Life'"
      ]
     },
     "execution_count": 25,
     "metadata": {},
     "output_type": "execute_result"
    }
   ],
   "source": [
    "df['title'][942]"
   ]
  },
  {
   "cell_type": "markdown",
   "id": "1930730e",
   "metadata": {},
   "source": [
    "## finally model is ready"
   ]
  },
  {
   "cell_type": "code",
   "execution_count": 26,
   "id": "904a64e1",
   "metadata": {},
   "outputs": [
    {
     "name": "stdout",
     "output_type": "stream",
     "text": [
      "Batman\n",
      "The Dark Knight Rises\n",
      "Batman & Robin\n",
      "Batman Forever\n",
      "Batman Begins\n"
     ]
    }
   ],
   "source": [
    "similar('Batman')"
   ]
  },
  {
   "cell_type": "markdown",
   "id": "03e82385",
   "metadata": {},
   "source": [
    "## create pickle files"
   ]
  },
  {
   "cell_type": "code",
   "execution_count": 27,
   "id": "302cd606",
   "metadata": {},
   "outputs": [],
   "source": [
    "import pickle"
   ]
  },
  {
   "cell_type": "code",
   "execution_count": 28,
   "id": "916f3490",
   "metadata": {},
   "outputs": [],
   "source": [
    "pickle.dump(df,open('movies.pkl','wb'))\n",
    "pickle.dump(similarity,open('similarity.pkl','wb'))"
   ]
  },
  {
   "cell_type": "code",
   "execution_count": null,
   "id": "62df21d3",
   "metadata": {},
   "outputs": [],
   "source": []
  }
 ],
 "metadata": {
  "kernelspec": {
   "display_name": "Python 3",
   "language": "python",
   "name": "python3"
  },
  "language_info": {
   "codemirror_mode": {
    "name": "ipython",
    "version": 3
   },
   "file_extension": ".py",
   "mimetype": "text/x-python",
   "name": "python",
   "nbconvert_exporter": "python",
   "pygments_lexer": "ipython3",
   "version": "3.9.7"
  }
 },
 "nbformat": 4,
 "nbformat_minor": 5
}
